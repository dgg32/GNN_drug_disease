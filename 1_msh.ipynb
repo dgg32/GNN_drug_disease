{
 "cells": [
  {
   "cell_type": "code",
   "execution_count": 1,
   "metadata": {},
   "outputs": [],
   "source": [
    "import umls_api\n",
    "import yaml\n",
    "from tqdm import tqdm\n",
    "import json"
   ]
  },
  {
   "cell_type": "code",
   "execution_count": 2,
   "metadata": {},
   "outputs": [],
   "source": [
    "with open(\"config.yaml\", \"r\") as stream:\n",
    "    try:\n",
    "        PARAM = yaml.safe_load(stream)\n",
    "    except yaml.YAMLError as exc:\n",
    "        print(exc)\n",
    "\n",
    "umls_token = PARAM[\"umls_token\"]"
   ]
  },
  {
   "cell_type": "code",
   "execution_count": 3,
   "metadata": {},
   "outputs": [
    {
     "name": "stdout",
     "output_type": "stream",
     "text": [
      "done 0\n",
      "entities 684\n"
     ]
    }
   ],
   "source": [
    "done = set()\n",
    "\n",
    "try:\n",
    "    with open('temp/done.txt','r+') as f:\n",
    "        for line in f:\n",
    "            done.add(line.strip())\n",
    "except:\n",
    "    pass\n",
    "\n",
    "print (\"done\", len(done))\n",
    "\n",
    "entities = open(\"temp/MSH_disease.json\", 'r').readlines()\n",
    "print (\"entities\", len(entities))"
   ]
  },
  {
   "cell_type": "code",
   "execution_count": 4,
   "metadata": {},
   "outputs": [],
   "source": [
    "#umls_api.recursive_get_subcategory_parent(\"D007078\", \"MSH\", umls_token, \"CHD\", \"\")"
   ]
  },
  {
   "cell_type": "code",
   "execution_count": 5,
   "metadata": {},
   "outputs": [],
   "source": [
    "#umls_api.recursive_get_subcategory_parent(\"D007078\", \"MSH\", \"includeRelationLabels=CHD\", umls_token)"
   ]
  },
  {
   "cell_type": "code",
   "execution_count": 6,
   "metadata": {},
   "outputs": [],
   "source": [
    "#umls_api.recursive_get_subcategory_parent(\"D013120\", \"MSH\", umls_token, \"CHD\", \"\")"
   ]
  },
  {
   "cell_type": "code",
   "execution_count": 7,
   "metadata": {},
   "outputs": [
    {
     "name": "stderr",
     "output_type": "stream",
     "text": [
      "100%|██████████| 684/684 [35:23<00:00,  3.11s/it] \n"
     ]
    }
   ],
   "source": [
    "disease_disease = {}\n",
    "drugs = {}\n",
    "diseases = {}\n",
    "\n",
    "disease_drug = set()\n",
    "\n",
    "\n",
    "subcategories_response = open(\"subcategories_response.txt\", 'a')\n",
    "done_file = open(\"done.txt\", 'a')\n",
    "\n",
    "for line in tqdm(entities):\n",
    "\n",
    "    #print (line)\n",
    "    disease_id = json.loads(line)[\"MSH_id\"]\n",
    "\n",
    "    if disease_id not in done:\n",
    "        \n",
    "        #may_be_treated = umls_api.get_relation(disease_id, \"MSH\", \"includeRelationLabels=RO&additionalRelationLabel=may_be_treated_by\", umls_token)\n",
    "        may_be_treated = umls_api.get_relation(disease_id, \"MSH\", umls_token, \"RO\", \"may_be_treated_by\")\n",
    "        \n",
    "\n",
    "        with open('temp/may_be_treated_response.tsv','a') as f:\n",
    "            f.write(disease_id + \"\\t\" + json.dumps(may_be_treated) + \"\\n\")\n",
    "        #print (\"disease_id\", disease_id, json.dumps(may_be_treated))\n",
    "        #for m in may_be_treated:\n",
    "            #drugs[m[\"id\"]] = m[\"name\"]\n",
    "            \n",
    "        \n",
    "            #disease_drug.add((disease_id, m[\"id\"]))\n",
    "\n",
    "        trios = umls_api.recursive_get_subcategory_parent(disease_id, \"MSH\", umls_token, \"CHD\", \"\")\n",
    "\n",
    "### also include disease that has no drugs, to discover drug for them\n",
    "        #for t in trios:\n",
    "            #disease_disease[t[0]] = t[2]\n",
    "\n",
    "            #diseases[t[0]] = t[1]\n",
    "            #diseases[t[2]] = t[3]\n",
    "        with open('temp/subcategories_response.txt','a') as f:\n",
    "            f.write(json.dumps(trios) + \"\\n\")\n",
    "\n",
    "        with open('temp/done.txt','a') as f:\n",
    "            f.write(disease_id + \"\\n\")\n"
   ]
  },
  {
   "cell_type": "code",
   "execution_count": 8,
   "metadata": {},
   "outputs": [],
   "source": [
    "#disease_drug"
   ]
  },
  {
   "cell_type": "code",
   "execution_count": 9,
   "metadata": {},
   "outputs": [],
   "source": [
    "#drugs"
   ]
  },
  {
   "cell_type": "code",
   "execution_count": 10,
   "metadata": {},
   "outputs": [],
   "source": [
    "#disease_disease"
   ]
  },
  {
   "cell_type": "code",
   "execution_count": 11,
   "metadata": {},
   "outputs": [],
   "source": [
    "#diseases"
   ]
  },
  {
   "cell_type": "code",
   "execution_count": null,
   "metadata": {},
   "outputs": [],
   "source": []
  }
 ],
 "metadata": {
  "kernelspec": {
   "display_name": "druglink",
   "language": "python",
   "name": "python3"
  },
  "language_info": {
   "codemirror_mode": {
    "name": "ipython",
    "version": 3
   },
   "file_extension": ".py",
   "mimetype": "text/x-python",
   "name": "python",
   "nbconvert_exporter": "python",
   "pygments_lexer": "ipython3",
   "version": "3.11.8"
  }
 },
 "nbformat": 4,
 "nbformat_minor": 2
}
