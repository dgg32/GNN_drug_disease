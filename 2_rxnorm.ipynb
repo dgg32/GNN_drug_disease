{
 "cells": [
  {
   "cell_type": "code",
   "execution_count": 1,
   "metadata": {},
   "outputs": [],
   "source": [
    "import umls_api\n",
    "import yaml\n",
    "from tqdm import tqdm\n",
    "import json"
   ]
  },
  {
   "cell_type": "code",
   "execution_count": 2,
   "metadata": {},
   "outputs": [],
   "source": [
    "with open(\"config.yaml\", \"r\") as stream:\n",
    "    try:\n",
    "        PARAM = yaml.safe_load(stream)\n",
    "    except yaml.YAMLError as exc:\n",
    "        print(exc)\n",
    "\n",
    "umls_token = PARAM[\"umls_token\"]"
   ]
  },
  {
   "cell_type": "code",
   "execution_count": 3,
   "metadata": {},
   "outputs": [],
   "source": [
    "#umls_api.get_relation(\"22396\", \"RXNORM\", umls_token, \"CHD\", \"has_parent\")"
   ]
  },
  {
   "cell_type": "code",
   "execution_count": 4,
   "metadata": {},
   "outputs": [],
   "source": [
    "#umls_api.get_relation(\"22396\", \"RXNORM\", umls_token, \"RO\", \"has_mechanism_of_action\")"
   ]
  },
  {
   "cell_type": "code",
   "execution_count": 5,
   "metadata": {},
   "outputs": [],
   "source": [
    "#umls_api.get_relation(\"22396\", \"RXNORM\", umls_token, \"RO\", \"has_physiologic_effect\")"
   ]
  },
  {
   "cell_type": "code",
   "execution_count": 6,
   "metadata": {},
   "outputs": [],
   "source": [
    "done = set()\n",
    "\n",
    "with open('temp/rxnorm_response.txt','r') as f:\n",
    "    for line in f:\n",
    "        object = json.loads(line.strip())\n",
    "        done.add(object['drug_id'])"
   ]
  },
  {
   "cell_type": "code",
   "execution_count": 7,
   "metadata": {},
   "outputs": [
    {
     "name": "stderr",
     "output_type": "stream",
     "text": [
      "100%|██████████| 2945/2945 [1:46:44<00:00,  2.17s/it]\n"
     ]
    }
   ],
   "source": [
    "drugs = {}\n",
    "for line in open(\"temp/may_be_treated_response.tsv\", \"r\"):\n",
    "    fields = line.strip().split(\"\\t\")\n",
    "\n",
    "    for d in json.loads(fields[1]):\n",
    "        drugs[d[\"id\"]] = d[\"name\"]\n",
    "\n",
    "\n",
    "for drug_id in tqdm(drugs):\n",
    "    if drug_id not in done:\n",
    "        \n",
    "        temp = {}\n",
    "        temp[\"drug_id\"] = drug_id\n",
    "        temp[\"name\"] = drugs[drug_id]\n",
    "        temp[\"parents\"] = umls_api.get_relation(drug_id, \"RXNORM\", umls_token, \"CHD\", \"has_parent\")\n",
    "        temp[\"moa\"] = umls_api.get_relation(drug_id, \"RXNORM\", umls_token, \"RO\", \"has_mechanism_of_action\")\n",
    "        temp[\"pe\"] = umls_api.get_relation(drug_id, \"RXNORM\", umls_token, \"RO\", \"has_physiologic_effect\")\n",
    "\n",
    "        with open('temp/rxnorm_response.txt','a') as f:\n",
    "            f.write(json.dumps(temp) + \"\\n\")"
   ]
  },
  {
   "cell_type": "code",
   "execution_count": 8,
   "metadata": {},
   "outputs": [
    {
     "data": {
      "text/plain": [
       "2945"
      ]
     },
     "execution_count": 8,
     "metadata": {},
     "output_type": "execute_result"
    }
   ],
   "source": [
    "len(drugs)"
   ]
  },
  {
   "cell_type": "code",
   "execution_count": null,
   "metadata": {},
   "outputs": [],
   "source": [
    " "
   ]
  }
 ],
 "metadata": {
  "kernelspec": {
   "display_name": "druglink",
   "language": "python",
   "name": "python3"
  },
  "language_info": {
   "codemirror_mode": {
    "name": "ipython",
    "version": 3
   },
   "file_extension": ".py",
   "mimetype": "text/x-python",
   "name": "python",
   "nbconvert_exporter": "python",
   "pygments_lexer": "ipython3",
   "version": "3.11.8"
  }
 },
 "nbformat": 4,
 "nbformat_minor": 2
}
